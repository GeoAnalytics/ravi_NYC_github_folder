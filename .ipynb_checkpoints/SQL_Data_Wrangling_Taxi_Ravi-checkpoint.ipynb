{
 "cells": [
  {
   "cell_type": "code",
   "execution_count": 1,
   "metadata": {
    "collapsed": false
   },
   "outputs": [
    {
     "name": "stdout",
     "output_type": "stream",
     "text": [
      "Populating the interactive namespace from numpy and matplotlib\n"
     ]
    }
   ],
   "source": [
    "# load SQL libraries and other necessities\n",
    "import pandas as pd\n",
    "from sqlalchemy import create_engine # database connection\n",
    "import datetime as dt\n",
    "from IPython.display import display\n",
    "import sqlalchemy as sa\n",
    "import plotly.plotly as py # interactive graphing\n",
    "from plotly.graph_objs import Bar, Scatter, Marker, Layout \n",
    "%load_ext sql\n",
    "%pylab inline"
   ]
  },
  {
   "cell_type": "code",
   "execution_count": 2,
   "metadata": {
    "collapsed": true
   },
   "outputs": [],
   "source": [
    "# create SQL database \n",
    "con = sa.create_engine('sqlite:///greentaxi4.db')\n",
    "chunksize=10000\n",
    "chunks = pd.read_csv('green_tripdata_2013-09.csv', chunksize=chunksize)\n",
    "\n",
    "# in the next box, we connect to the database"
   ]
  },
  {
   "cell_type": "code",
   "execution_count": 3,
   "metadata": {
    "collapsed": false
   },
   "outputs": [
    {
     "data": {
      "text/plain": [
       "u'Connected: None@greentaxi4.db'"
      ]
     },
     "execution_count": 3,
     "metadata": {},
     "output_type": "execute_result"
    }
   ],
   "source": [
    "%%sql \n",
    "sqlite:///greentaxi4.db"
   ]
  },
  {
   "cell_type": "code",
   "execution_count": 4,
   "metadata": {
    "collapsed": false
   },
   "outputs": [
    {
     "name": "stdout",
     "output_type": "stream",
     "text": [
      "completed 10000 rows\n",
      "completed 20000 rows\n",
      "completed 30000 rows\n",
      "completed 40000 rows\n",
      "completed 50000 rows\n"
     ]
    }
   ],
   "source": [
    "# load data into database\n",
    "j=0\n",
    "for chunk in chunks:\n",
    "    chunk.to_sql('grt5', if_exists='append', con=con)\n",
    "    j+=1\n",
    "    print 'completed {} rows'.format(j*10000)"
   ]
  },
  {
   "cell_type": "code",
   "execution_count": 5,
   "metadata": {
    "collapsed": false
   },
   "outputs": [
    {
     "name": "stdout",
     "output_type": "stream",
     "text": [
      "Done.\n"
     ]
    },
    {
     "data": {
      "text/html": [
       "<table>\n",
       "    <tr>\n",
       "        <th>level_0</th>\n",
       "        <th>level_1</th>\n",
       "        <th>VendorID</th>\n",
       "        <th>lpep_pickup_datetime</th>\n",
       "        <th>Lpep_dropoff_datetime</th>\n",
       "        <th>Store_and_fwd_flag</th>\n",
       "        <th>RateCodeID</th>\n",
       "        <th>Pickup_longitude</th>\n",
       "        <th>Pickup_latitude</th>\n",
       "        <th>Dropoff_longitude</th>\n",
       "        <th>Dropoff_latitude</th>\n",
       "        <th>Passenger_count</th>\n",
       "        <th>Trip_distance</th>\n",
       "        <th>Fare_amount</th>\n",
       "        <th>Extra</th>\n",
       "        <th>MTA_tax</th>\n",
       "        <th>Tip_amount</th>\n",
       "        <th>Tolls_amount</th>\n",
       "        <th>Ehail_fee</th>\n",
       "        <th>Total_amount</th>\n",
       "        <th>Payment_type</th>\n",
       "        <th>Trip_type </th>\n",
       "    </tr>\n",
       "    <tr>\n",
       "        <td>2</td>\n",
       "        <td>2013-09-01 00:02:00</td>\n",
       "        <td>2013-09-01 00:54:51</td>\n",
       "        <td>N</td>\n",
       "        <td>1</td>\n",
       "        <td>-73.9524078369</td>\n",
       "        <td>40.8107261658</td>\n",
       "        <td>-73.9839401245</td>\n",
       "        <td>40.67628479</td>\n",
       "        <td>5</td>\n",
       "        <td>14.35</td>\n",
       "        <td>50.5</td>\n",
       "        <td>0.5</td>\n",
       "        <td>0.5</td>\n",
       "        <td>10.3</td>\n",
       "        <td>0.0</td>\n",
       "        <td>None</td>\n",
       "        <td>61.8</td>\n",
       "        <td>1</td>\n",
       "        <td>None</td>\n",
       "        <td>None</td>\n",
       "        <td>None</td>\n",
       "    </tr>\n",
       "    <tr>\n",
       "        <td>2</td>\n",
       "        <td>2013-09-01 00:02:34</td>\n",
       "        <td>2013-09-01 00:20:59</td>\n",
       "        <td>N</td>\n",
       "        <td>1</td>\n",
       "        <td>-73.9630203247</td>\n",
       "        <td>40.7118339539</td>\n",
       "        <td>-73.9666442871</td>\n",
       "        <td>40.6816902161</td>\n",
       "        <td>1</td>\n",
       "        <td>3.24</td>\n",
       "        <td>15.0</td>\n",
       "        <td>0.5</td>\n",
       "        <td>0.5</td>\n",
       "        <td>0.0</td>\n",
       "        <td>0.0</td>\n",
       "        <td>None</td>\n",
       "        <td>16.0</td>\n",
       "        <td>2</td>\n",
       "        <td>None</td>\n",
       "        <td>None</td>\n",
       "        <td>None</td>\n",
       "    </tr>\n",
       "    <tr>\n",
       "        <td>2</td>\n",
       "        <td>2013-09-01 00:03:06</td>\n",
       "        <td>2013-09-01 00:28:03</td>\n",
       "        <td>N</td>\n",
       "        <td>1</td>\n",
       "        <td>-73.843460083</td>\n",
       "        <td>40.7559509277</td>\n",
       "        <td>-73.9892120361</td>\n",
       "        <td>40.7405281067</td>\n",
       "        <td>1</td>\n",
       "        <td>11.27</td>\n",
       "        <td>34.0</td>\n",
       "        <td>0.5</td>\n",
       "        <td>0.5</td>\n",
       "        <td>8.07</td>\n",
       "        <td>5.33</td>\n",
       "        <td>None</td>\n",
       "        <td>48.4</td>\n",
       "        <td>1</td>\n",
       "        <td>None</td>\n",
       "        <td>None</td>\n",
       "        <td>None</td>\n",
       "    </tr>\n",
       "</table>"
      ],
      "text/plain": [
       "[(2, u'2013-09-01 00:02:00', u'2013-09-01 00:54:51', u'N', 1, -73.95240783691406, 40.81072616577149, -73.98394012451173, 40.676284790039055, 5, 14.35, 50.5, 0.5, 0.5, 10.3, 0.0, None, 61.8, 1, None, None, None),\n",
       " (2, u'2013-09-01 00:02:34', u'2013-09-01 00:20:59', u'N', 1, -73.96302032470702, 40.71183395385742, -73.96664428710938, 40.68169021606445, 1, 3.24, 15.0, 0.5, 0.5, 0.0, 0.0, None, 16.0, 2, None, None, None),\n",
       " (2, u'2013-09-01 00:03:06', u'2013-09-01 00:28:03', u'N', 1, -73.84346008300781, 40.755950927734375, -73.98921203613281, 40.74052810668945, 1, 11.27, 34.0, 0.5, 0.5, 8.07, 5.33, None, 48.4, 1, None, None, None)]"
      ]
     },
     "execution_count": 5,
     "metadata": {},
     "output_type": "execute_result"
    }
   ],
   "source": [
    "%%sql\n",
    "SELECT * FROM grt5 LIMIT '3'"
   ]
  },
  {
   "cell_type": "code",
   "execution_count": 6,
   "metadata": {
    "collapsed": true
   },
   "outputs": [],
   "source": [
    "# next we delete the last 2 columns from the table"
   ]
  },
  {
   "cell_type": "code",
   "execution_count": 7,
   "metadata": {
    "collapsed": false
   },
   "outputs": [
    {
     "name": "stdout",
     "output_type": "stream",
     "text": [
      "Done.\n",
      "49647 rows affected.\n",
      "Done.\n",
      "Done.\n",
      "49647 rows affected.\n",
      "Done.\n"
     ]
    },
    {
     "data": {
      "text/plain": [
       "[]"
      ]
     },
     "execution_count": 7,
     "metadata": {},
     "output_type": "execute_result"
    }
   ],
   "source": [
    "%%sql\n",
    "CREATE TEMPORARY TABLE IF NOT EXISTS grt5_backup(level_0,level_1,VendorID,lpep_pickup_datetime,Lpep_dropoff_datetime,Store_and_fwd_flag,\n",
    "                                  RateCodeID,Pickup_longitude,Pickup_latitude,Dropoff_longitude,Dropoff_latitude,\n",
    "                                  Passenger_count,Trip_distance,Fare_amount,Extra,MTA_tax,Tip_amount,Tolls_amount,\n",
    "                                  Ehail_fee,Total_amount);\n",
    "INSERT INTO grt5_backup SELECT level_0,level_1,VendorID,lpep_pickup_datetime,Lpep_dropoff_datetime,Store_and_fwd_flag,\n",
    "                                  RateCodeID,Pickup_longitude,Pickup_latitude,Dropoff_longitude,Dropoff_latitude,\n",
    "                                  Passenger_count,Trip_distance,Fare_amount,Extra,MTA_tax,Tip_amount,Tolls_amount,\n",
    "                                  Ehail_fee,Total_amount FROM grt5;\n",
    "DROP TABLE grt5;\n",
    "CREATE TABLE IF NOT EXISTS grt5(level_0,level_1,VendorID,lpep_pickup_datetime,Lpep_dropoff_datetime,Store_and_fwd_flag,\n",
    "                                  RateCodeID,Pickup_longitude,Pickup_latitude,Dropoff_longitude,Dropoff_latitude,\n",
    "                                  Passenger_count,Trip_distance,Fare_amount,Extra,MTA_tax,Tip_amount,Tolls_amount,\n",
    "                                  Ehail_fee,Total_amount);\n",
    "INSERT INTO grt5 SELECT level_0,level_1,VendorID,lpep_pickup_datetime,Lpep_dropoff_datetime,Store_and_fwd_flag,\n",
    "                                  RateCodeID,Pickup_longitude,Pickup_latitude,Dropoff_longitude,Dropoff_latitude,\n",
    "                                  Passenger_count,Trip_distance,Fare_amount,Extra,MTA_tax,Tip_amount,Tolls_amount,\n",
    "                                  Ehail_fee,Total_amount FROM grt5_backup;\n",
    "DROP TABLE grt5_backup;\n"
   ]
  },
  {
   "cell_type": "code",
   "execution_count": 8,
   "metadata": {
    "collapsed": true
   },
   "outputs": [],
   "source": [
    "# next, we rename the columns"
   ]
  },
  {
   "cell_type": "code",
   "execution_count": 9,
   "metadata": {
    "collapsed": false
   },
   "outputs": [
    {
     "name": "stdout",
     "output_type": "stream",
     "text": [
      "Done.\n",
      "Done.\n",
      "49647 rows affected.\n",
      "Done.\n"
     ]
    },
    {
     "data": {
      "text/plain": [
       "[]"
      ]
     },
     "execution_count": 9,
     "metadata": {},
     "output_type": "execute_result"
    }
   ],
   "source": [
    "%%sql\n",
    "\n",
    "ALTER TABLE grt5 RENAME TO grt5_backup1;\n",
    "CREATE TABLE grt5(VendorID,lpep_pickup_datetime,Lpep_dropoff_datetime,Store_and_fwd_flag,\n",
    "                                  RateCodeID,Pickup_longitude,Pickup_latitude,Dropoff_longitude,Dropoff_latitude,\n",
    "                                  Passenger_count,Trip_distance,Fare_amount,Extra,MTA_tax,Tip_amount,Tolls_amount,\n",
    "                                  Ehail_fee,Total_amount,Payment_type,Trip_type);\n",
    "INSERT INTO grt5(VendorID,lpep_pickup_datetime,Lpep_dropoff_datetime,Store_and_fwd_flag,\n",
    "                                  RateCodeID,Pickup_longitude,Pickup_latitude,Dropoff_longitude,Dropoff_latitude,\n",
    "                                  Passenger_count,Trip_distance,Fare_amount,Extra,MTA_tax,Tip_amount,Tolls_amount,\n",
    "                                  Ehail_fee,Total_amount,Payment_type,Trip_type) \n",
    "SELECT level_0,level_1,VendorID,lpep_pickup_datetime,Lpep_dropoff_datetime,Store_and_fwd_flag,\n",
    "                                  RateCodeID,Pickup_longitude,Pickup_latitude,Dropoff_longitude,Dropoff_latitude,\n",
    "                                  Passenger_count,Trip_distance,Fare_amount,Extra,MTA_tax,Tip_amount,Tolls_amount,\n",
    "                                  Ehail_fee,Total_amount FROM grt5_backup1;\n",
    "DROP TABLE grt5_backup1;\n"
   ]
  },
  {
   "cell_type": "code",
   "execution_count": 10,
   "metadata": {
    "collapsed": true
   },
   "outputs": [],
   "source": [
    "# change to 'Datetime' type"
   ]
  },
  {
   "cell_type": "code",
   "execution_count": 11,
   "metadata": {
    "collapsed": false
   },
   "outputs": [
    {
     "name": "stdout",
     "output_type": "stream",
     "text": [
      "Done.\n",
      "Done.\n",
      "49647 rows affected.\n",
      "Done.\n"
     ]
    },
    {
     "data": {
      "text/plain": [
       "[]"
      ]
     },
     "execution_count": 11,
     "metadata": {},
     "output_type": "execute_result"
    }
   ],
   "source": [
    "%%sql\n",
    "ALTER TABLE grt5 RENAME TO grt5_backup2;\n",
    "CREATE TABLE IF NOT EXISTS grt5(VendorID,lpep_pickup_datetime DATETIME,Lpep_dropoff_datetime DATETIME,Store_and_fwd_flag,\n",
    "                                  RateCodeID,Pickup_longitude,Pickup_latitude,Dropoff_longitude,Dropoff_latitude,\n",
    "                                  Passenger_count,Trip_distance,Fare_amount,Extra,MTA_tax,Tip_amount,Tolls_amount,\n",
    "                                  Ehail_fee,Total_amount,Payment_type,Trip_type);\n",
    "INSERT INTO grt5(VendorID,lpep_pickup_datetime,Lpep_dropoff_datetime,Store_and_fwd_flag,\n",
    "                                  RateCodeID,Pickup_longitude,Pickup_latitude,Dropoff_longitude,Dropoff_latitude,\n",
    "                                  Passenger_count,Trip_distance,Fare_amount,Extra,MTA_tax,Tip_amount,Tolls_amount,\n",
    "                                  Ehail_fee,Total_amount,Payment_type,Trip_type) \n",
    "SELECT VendorID,lpep_pickup_datetime DATETIME,Lpep_dropoff_datetime DATETIME,Store_and_fwd_flag,\n",
    "                                  RateCodeID,Pickup_longitude,Pickup_latitude,Dropoff_longitude,Dropoff_latitude,\n",
    "                                  Passenger_count,Trip_distance,Fare_amount,Extra,MTA_tax,Tip_amount,Tolls_amount,\n",
    "                                  Ehail_fee,Total_amount,Payment_type,Trip_type FROM grt5_backup2;\n",
    "DROP TABLE grt5_backup2;"
   ]
  },
  {
   "cell_type": "code",
   "execution_count": 12,
   "metadata": {
    "collapsed": true
   },
   "outputs": [],
   "source": [
    "# To merge the weather table with the taxi table, I'll do a left join using the dates from the 2 tables.\n",
    "# However, the datetimes from both tables must be in the same format to facilitate the left join. Thus, I do some wrangling\n",
    "# the datetime for the taxi data to put it into a format consistent with the weather data datetimes"
   ]
  },
  {
   "cell_type": "code",
   "execution_count": 13,
   "metadata": {
    "collapsed": true
   },
   "outputs": [],
   "source": [
    "# add new column to table in preparation for cleaned datetimes"
   ]
  },
  {
   "cell_type": "code",
   "execution_count": 14,
   "metadata": {
    "collapsed": false
   },
   "outputs": [
    {
     "name": "stdout",
     "output_type": "stream",
     "text": [
      "Done.\n"
     ]
    },
    {
     "data": {
      "text/plain": [
       "[]"
      ]
     },
     "execution_count": 14,
     "metadata": {},
     "output_type": "execute_result"
    }
   ],
   "source": [
    "%%sql\n",
    "ALTER TABLE grt5 ADD COLUMN date_cleaned DATETIME;\n"
   ]
  },
  {
   "cell_type": "code",
   "execution_count": 15,
   "metadata": {
    "collapsed": false
   },
   "outputs": [
    {
     "name": "stdout",
     "output_type": "stream",
     "text": [
      "49647 rows affected.\n"
     ]
    },
    {
     "data": {
      "text/plain": [
       "[]"
      ]
     },
     "execution_count": 15,
     "metadata": {},
     "output_type": "execute_result"
    }
   ],
   "source": [
    "%%sql\n",
    "UPDATE grt5 \n",
    "SET date_cleaned =  substr(Lpep_dropoff_datetime, 1, 4)||\"\"||substr(Lpep_dropoff_datetime, 5,2)||\"\"||substr(Lpep_dropoff_datetime, 7,2)||\"\"||\n",
    "substr(Lpep_dropoff_datetime,9,2)||\"\"||substr(Lpep_dropoff_datetime,11,3)\n"
   ]
  },
  {
   "cell_type": "code",
   "execution_count": 16,
   "metadata": {
    "collapsed": true
   },
   "outputs": [],
   "source": [
    "# LOAD WEATHER DATA and add its table to greentaxi database"
   ]
  },
  {
   "cell_type": "code",
   "execution_count": 17,
   "metadata": {
    "collapsed": true
   },
   "outputs": [],
   "source": [
    "chunksize=100\n",
    "chunks2 = pd.read_csv('weather_central_park_09_2013.csv', chunksize=chunksize)"
   ]
  },
  {
   "cell_type": "code",
   "execution_count": 18,
   "metadata": {
    "collapsed": false
   },
   "outputs": [
    {
     "name": "stdout",
     "output_type": "stream",
     "text": [
      "completed 100 rows\n",
      "completed 200 rows\n",
      "completed 300 rows\n",
      "completed 400 rows\n",
      "completed 500 rows\n",
      "completed 600 rows\n",
      "completed 700 rows\n",
      "completed 800 rows\n",
      "completed 900 rows\n"
     ]
    }
   ],
   "source": [
    "j=0\n",
    "for chunk2 in chunks2:\n",
    "    chunk2.to_sql('weather_gr_Sep', if_exists='append', con=con)\n",
    "    j+=1\n",
    "    print 'completed {} rows'.format(j*chunksize)"
   ]
  },
  {
   "cell_type": "code",
   "execution_count": 19,
   "metadata": {
    "collapsed": true
   },
   "outputs": [],
   "source": [
    "# keep only the datetime and temp columns from weather table\n",
    "# NB: use backticks when column name has symbols/hyphens ,etc"
   ]
  },
  {
   "cell_type": "code",
   "execution_count": 20,
   "metadata": {
    "collapsed": false
   },
   "outputs": [
    {
     "name": "stdout",
     "output_type": "stream",
     "text": [
      "Done.\n",
      "849 rows affected.\n",
      "Done.\n"
     ]
    },
    {
     "data": {
      "text/html": [
       "<table>\n",
       "    <tr>\n",
       "        <th>YR--MODAHRMN</th>\n",
       "        <th>TEMP</th>\n",
       "    </tr>\n",
       "    <tr>\n",
       "        <td>2.01309010051e+11</td>\n",
       "        <td>82</td>\n",
       "    </tr>\n",
       "    <tr>\n",
       "        <td>2.01309010151e+11</td>\n",
       "        <td>81</td>\n",
       "    </tr>\n",
       "    <tr>\n",
       "        <td>2.01309010251e+11</td>\n",
       "        <td>80</td>\n",
       "    </tr>\n",
       "</table>"
      ],
      "text/plain": [
       "[(201309010051.0, u'82'), (201309010151.0, u'81'), (201309010251.0, u'80')]"
      ]
     },
     "execution_count": 20,
     "metadata": {},
     "output_type": "execute_result"
    }
   ],
   "source": [
    "%%sql\n",
    "CREATE TABLE IF NOT EXISTS weather_gr_Sep_clean2(`YR--MODAHRMN`,`TEMP`);\n",
    "INSERT INTO weather_gr_Sep_clean2 SELECT `YR--MODAHRMN`,`TEMP` FROM weather_gr_Sep;\n",
    "SELECT * FROM weather_gr_Sep_clean2 LIMIT '3'"
   ]
  },
  {
   "cell_type": "code",
   "execution_count": 21,
   "metadata": {
    "collapsed": true
   },
   "outputs": [],
   "source": [
    "# rename column to 'date' and convert to datetime format."
   ]
  },
  {
   "cell_type": "code",
   "execution_count": 22,
   "metadata": {
    "collapsed": false
   },
   "outputs": [
    {
     "name": "stdout",
     "output_type": "stream",
     "text": [
      "Done.\n",
      "849 rows affected.\n"
     ]
    },
    {
     "data": {
      "text/plain": [
       "[]"
      ]
     },
     "execution_count": 22,
     "metadata": {},
     "output_type": "execute_result"
    }
   ],
   "source": [
    "%%sql\n",
    "CREATE TABLE weather_c2(Date DATETIME,Temp);\n",
    "INSERT INTO weather_c2(Date,Temp) \n",
    "SELECT `YR--MODAHRMN`,`TEMP` FROM weather_gr_Sep_clean2;"
   ]
  },
  {
   "cell_type": "code",
   "execution_count": 23,
   "metadata": {
    "collapsed": true
   },
   "outputs": [],
   "source": [
    "# add new column to table in preparation for cleaned datetimes"
   ]
  },
  {
   "cell_type": "code",
   "execution_count": 24,
   "metadata": {
    "collapsed": false
   },
   "outputs": [
    {
     "name": "stdout",
     "output_type": "stream",
     "text": [
      "Done.\n"
     ]
    },
    {
     "data": {
      "text/plain": [
       "[]"
      ]
     },
     "execution_count": 24,
     "metadata": {},
     "output_type": "execute_result"
    }
   ],
   "source": [
    "%%sql\n",
    "ALTER TABLE weather_c2 ADD COLUMN date_cleaned DATETIME;"
   ]
  },
  {
   "cell_type": "code",
   "execution_count": 25,
   "metadata": {
    "collapsed": true
   },
   "outputs": [],
   "source": [
    "# Fill the new column with cleaned datetimes"
   ]
  },
  {
   "cell_type": "code",
   "execution_count": 26,
   "metadata": {
    "collapsed": false
   },
   "outputs": [
    {
     "name": "stdout",
     "output_type": "stream",
     "text": [
      "849 rows affected.\n"
     ]
    },
    {
     "data": {
      "text/plain": [
       "[]"
      ]
     },
     "execution_count": 26,
     "metadata": {},
     "output_type": "execute_result"
    }
   ],
   "source": [
    "%%sql\n",
    "UPDATE weather_c2 \n",
    "SET date_cleaned =  substr(Date, 1, 4)||\"-\"||substr(Date, 5,2)||\"-\"||substr(Date, 7,2)||\" \"||\n",
    "substr(Date,9,2)"
   ]
  },
  {
   "cell_type": "code",
   "execution_count": 27,
   "metadata": {
    "collapsed": true
   },
   "outputs": [],
   "source": [
    "# MERGE weather and taxi tables"
   ]
  },
  {
   "cell_type": "code",
   "execution_count": 28,
   "metadata": {
    "collapsed": false
   },
   "outputs": [
    {
     "name": "stdout",
     "output_type": "stream",
     "text": [
      "Done.\n"
     ]
    },
    {
     "data": {
      "text/plain": [
       "[]"
      ]
     },
     "execution_count": 28,
     "metadata": {},
     "output_type": "execute_result"
    }
   ],
   "source": [
    "%%sql\n",
    "CREATE TABLE `mergetable` (VendorID,\n",
    "                        lpep_pickup_datetime,\n",
    "                        Lpep_dropoff_datetime,\n",
    "                        Store_and_fwd_flag,\n",
    "                        RateCodeID,\n",
    "                        Pickup_longitude,\n",
    "                        Pickup_latitude,\n",
    "                        Dropoff_longitude,\n",
    "                        Dropoff_latitude,\n",
    "                        Passenger_count,\n",
    "                        Trip_distance,\n",
    "                        Fare_amount,\n",
    "                        Extra,\n",
    "                        MTA_tax,\n",
    "                        Tip_amount,\n",
    "                        Tolls_amount,\n",
    "                        Ehail_fee,\n",
    "                        Total_amount,\n",
    "                        Payment_type,\n",
    "                        Trip_type,\n",
    "                        date_cleaned,\n",
    "                        Date,\n",
    "                        Temp,\n",
    "                        date_cleaned_1);"
   ]
  },
  {
   "cell_type": "code",
   "execution_count": 29,
   "metadata": {
    "collapsed": false
   },
   "outputs": [
    {
     "name": "stdout",
     "output_type": "stream",
     "text": [
      "55728 rows affected.\n"
     ]
    },
    {
     "data": {
      "text/plain": [
       "[]"
      ]
     },
     "execution_count": 29,
     "metadata": {},
     "output_type": "execute_result"
    }
   ],
   "source": [
    "%%sql\n",
    "INSERT INTO `mergetable` \n",
    "SELECT * FROM grt5 LEFT JOIN weather_c2\n",
    "ON grt5.date_cleaned = weather_c2.date_cleaned;"
   ]
  },
  {
   "cell_type": "code",
   "execution_count": 30,
   "metadata": {
    "collapsed": true
   },
   "outputs": [],
   "source": [
    "# create a column 'dayofweek'"
   ]
  },
  {
   "cell_type": "code",
   "execution_count": 31,
   "metadata": {
    "collapsed": false
   },
   "outputs": [
    {
     "name": "stdout",
     "output_type": "stream",
     "text": [
      "Done.\n"
     ]
    },
    {
     "data": {
      "text/plain": [
       "[]"
      ]
     },
     "execution_count": 31,
     "metadata": {},
     "output_type": "execute_result"
    }
   ],
   "source": [
    "%%sql\n",
    "CREATE TABLE `mergetable2` (VendorID,\n",
    "                        lpep_pickup_datetime,\n",
    "                        Lpep_dropoff_datetime,\n",
    "                        Store_and_fwd_flag,\n",
    "                        RateCodeID,\n",
    "                        Pickup_longitude,\n",
    "                        Pickup_latitude,\n",
    "                        Dropoff_longitude,\n",
    "                        Dropoff_latitude,\n",
    "                        Passenger_count,\n",
    "                        Trip_distance,\n",
    "                        Fare_amount,\n",
    "                        Extra,\n",
    "                        MTA_tax,\n",
    "                        Tip_amount,\n",
    "                        Tolls_amount,\n",
    "                        Ehail_fee,\n",
    "                        Total_amount,\n",
    "                        Payment_type,\n",
    "                        Trip_type,\n",
    "                        date_cleaned,\n",
    "                        Date,\n",
    "                        Temp,\n",
    "                        date_cleaned_1,\n",
    "                         dayofweek );\n"
   ]
  },
  {
   "cell_type": "code",
   "execution_count": 32,
   "metadata": {
    "collapsed": false
   },
   "outputs": [
    {
     "name": "stdout",
     "output_type": "stream",
     "text": [
      "55728 rows affected.\n"
     ]
    },
    {
     "data": {
      "text/plain": [
       "[]"
      ]
     },
     "execution_count": 32,
     "metadata": {},
     "output_type": "execute_result"
    }
   ],
   "source": [
    "%%sql\n",
    "INSERT INTO `mergetable2` \n",
    "select *, \n",
    "  case cast (strftime('%w', lpep_pickup_datetime) as integer)\n",
    "  when 0 then 'Sunday'\n",
    "  when 1 then 'Monday'\n",
    "  when 2 then 'Tuesday'\n",
    "  when 3 then 'Wednesday'\n",
    "  when 4 then 'Thursday'\n",
    "  when 5 then 'Friday'\n",
    "  else 'Saturday' end as dayofweek\n",
    "from mergetable;\n"
   ]
  },
  {
   "cell_type": "code",
   "execution_count": 33,
   "metadata": {
    "collapsed": true
   },
   "outputs": [],
   "source": [
    "# Get 'hour' column for each trip"
   ]
  },
  {
   "cell_type": "code",
   "execution_count": 34,
   "metadata": {
    "collapsed": false
   },
   "outputs": [
    {
     "name": "stdout",
     "output_type": "stream",
     "text": [
      "Done.\n"
     ]
    },
    {
     "data": {
      "text/plain": [
       "[]"
      ]
     },
     "execution_count": 34,
     "metadata": {},
     "output_type": "execute_result"
    }
   ],
   "source": [
    "%%sql\n",
    "CREATE TABLE `mergetable3` (VendorID,\n",
    "                        lpep_pickup_datetime,\n",
    "                        Lpep_dropoff_datetime,\n",
    "                        Store_and_fwd_flag,\n",
    "                        RateCodeID,\n",
    "                        Pickup_longitude,\n",
    "                        Pickup_latitude,\n",
    "                        Dropoff_longitude,\n",
    "                        Dropoff_latitude,\n",
    "                        Passenger_count,\n",
    "                        Trip_distance,\n",
    "                        Fare_amount,\n",
    "                        Extra,\n",
    "                        MTA_tax,\n",
    "                        Tip_amount,\n",
    "                        Tolls_amount,\n",
    "                        Ehail_fee,\n",
    "                        Total_amount,\n",
    "                        Payment_type,\n",
    "                        Trip_type,\n",
    "                        date_cleaned,\n",
    "                        Date,\n",
    "                        Temp,\n",
    "                        date_cleaned_1,\n",
    "                         dayofweek,\n",
    "                           hour);\n"
   ]
  },
  {
   "cell_type": "code",
   "execution_count": 35,
   "metadata": {
    "collapsed": false
   },
   "outputs": [
    {
     "name": "stdout",
     "output_type": "stream",
     "text": [
      "55728 rows affected.\n"
     ]
    },
    {
     "data": {
      "text/plain": [
       "[]"
      ]
     },
     "execution_count": 35,
     "metadata": {},
     "output_type": "execute_result"
    }
   ],
   "source": [
    "%%sql\n",
    "INSERT INTO `mergetable3` \n",
    "select *,strftime('%H', `lpep_pickup_datetime`) \n",
    "as hour \n",
    "from mergetable2;"
   ]
  },
  {
   "cell_type": "code",
   "execution_count": 36,
   "metadata": {
    "collapsed": false
   },
   "outputs": [
    {
     "name": "stdout",
     "output_type": "stream",
     "text": [
      "Done.\n"
     ]
    },
    {
     "data": {
      "text/html": [
       "<table>\n",
       "    <tr>\n",
       "        <th>VendorID</th>\n",
       "        <th>lpep_pickup_datetime</th>\n",
       "        <th>Lpep_dropoff_datetime</th>\n",
       "        <th>Store_and_fwd_flag</th>\n",
       "        <th>RateCodeID</th>\n",
       "        <th>Pickup_longitude</th>\n",
       "        <th>Pickup_latitude</th>\n",
       "        <th>Dropoff_longitude</th>\n",
       "        <th>Dropoff_latitude</th>\n",
       "        <th>Passenger_count</th>\n",
       "        <th>Trip_distance</th>\n",
       "        <th>Fare_amount</th>\n",
       "        <th>Extra</th>\n",
       "        <th>MTA_tax</th>\n",
       "        <th>Tip_amount</th>\n",
       "        <th>Tolls_amount</th>\n",
       "        <th>Ehail_fee</th>\n",
       "        <th>Total_amount</th>\n",
       "        <th>Payment_type</th>\n",
       "        <th>Trip_type</th>\n",
       "        <th>date_cleaned</th>\n",
       "        <th>Date</th>\n",
       "        <th>Temp</th>\n",
       "        <th>date_cleaned_1</th>\n",
       "        <th>dayofweek</th>\n",
       "        <th>hour</th>\n",
       "    </tr>\n",
       "    <tr>\n",
       "        <td>2</td>\n",
       "        <td>2013-09-01 00:02:00</td>\n",
       "        <td>2013-09-01 00:54:51</td>\n",
       "        <td>N</td>\n",
       "        <td>1</td>\n",
       "        <td>-73.9524078369</td>\n",
       "        <td>40.8107261658</td>\n",
       "        <td>-73.9839401245</td>\n",
       "        <td>40.67628479</td>\n",
       "        <td>5</td>\n",
       "        <td>14.35</td>\n",
       "        <td>50.5</td>\n",
       "        <td>0.5</td>\n",
       "        <td>0.5</td>\n",
       "        <td>10.3</td>\n",
       "        <td>0.0</td>\n",
       "        <td>None</td>\n",
       "        <td>61.8</td>\n",
       "        <td>1</td>\n",
       "        <td>None</td>\n",
       "        <td>2013-09-01 00</td>\n",
       "        <td>201309010051</td>\n",
       "        <td>82</td>\n",
       "        <td>2013-09-01 00</td>\n",
       "        <td>Sunday</td>\n",
       "        <td>00</td>\n",
       "    </tr>\n",
       "    <tr>\n",
       "        <td>2</td>\n",
       "        <td>2013-09-01 00:02:34</td>\n",
       "        <td>2013-09-01 00:20:59</td>\n",
       "        <td>N</td>\n",
       "        <td>1</td>\n",
       "        <td>-73.9630203247</td>\n",
       "        <td>40.7118339539</td>\n",
       "        <td>-73.9666442871</td>\n",
       "        <td>40.6816902161</td>\n",
       "        <td>1</td>\n",
       "        <td>3.24</td>\n",
       "        <td>15.0</td>\n",
       "        <td>0.5</td>\n",
       "        <td>0.5</td>\n",
       "        <td>0.0</td>\n",
       "        <td>0.0</td>\n",
       "        <td>None</td>\n",
       "        <td>16.0</td>\n",
       "        <td>2</td>\n",
       "        <td>None</td>\n",
       "        <td>2013-09-01 00</td>\n",
       "        <td>201309010051</td>\n",
       "        <td>82</td>\n",
       "        <td>2013-09-01 00</td>\n",
       "        <td>Sunday</td>\n",
       "        <td>00</td>\n",
       "    </tr>\n",
       "    <tr>\n",
       "        <td>2</td>\n",
       "        <td>2013-09-01 00:03:06</td>\n",
       "        <td>2013-09-01 00:28:03</td>\n",
       "        <td>N</td>\n",
       "        <td>1</td>\n",
       "        <td>-73.843460083</td>\n",
       "        <td>40.7559509277</td>\n",
       "        <td>-73.9892120361</td>\n",
       "        <td>40.7405281067</td>\n",
       "        <td>1</td>\n",
       "        <td>11.27</td>\n",
       "        <td>34.0</td>\n",
       "        <td>0.5</td>\n",
       "        <td>0.5</td>\n",
       "        <td>8.07</td>\n",
       "        <td>5.33</td>\n",
       "        <td>None</td>\n",
       "        <td>48.4</td>\n",
       "        <td>1</td>\n",
       "        <td>None</td>\n",
       "        <td>2013-09-01 00</td>\n",
       "        <td>201309010051</td>\n",
       "        <td>82</td>\n",
       "        <td>2013-09-01 00</td>\n",
       "        <td>Sunday</td>\n",
       "        <td>00</td>\n",
       "    </tr>\n",
       "</table>"
      ],
      "text/plain": [
       "[(2, u'2013-09-01 00:02:00', u'2013-09-01 00:54:51', u'N', 1, -73.95240783691406, 40.81072616577149, -73.98394012451173, 40.676284790039055, 5, 14.35, 50.5, 0.5, 0.5, 10.3, 0.0, None, 61.8, 1, None, u'2013-09-01 00', 201309010051L, u'82', u'2013-09-01 00', u'Sunday', u'00'),\n",
       " (2, u'2013-09-01 00:02:34', u'2013-09-01 00:20:59', u'N', 1, -73.96302032470702, 40.71183395385742, -73.96664428710938, 40.68169021606445, 1, 3.24, 15.0, 0.5, 0.5, 0.0, 0.0, None, 16.0, 2, None, u'2013-09-01 00', 201309010051L, u'82', u'2013-09-01 00', u'Sunday', u'00'),\n",
       " (2, u'2013-09-01 00:03:06', u'2013-09-01 00:28:03', u'N', 1, -73.84346008300781, 40.755950927734375, -73.98921203613281, 40.74052810668945, 1, 11.27, 34.0, 0.5, 0.5, 8.07, 5.33, None, 48.4, 1, None, u'2013-09-01 00', 201309010051L, u'82', u'2013-09-01 00', u'Sunday', u'00')]"
      ]
     },
     "execution_count": 36,
     "metadata": {},
     "output_type": "execute_result"
    }
   ],
   "source": [
    "%%sql\n",
    "SELECT * FROM mergetable3 LIMIT '3'"
   ]
  }
 ],
 "metadata": {
  "anaconda-cloud": {},
  "kernelspec": {
   "display_name": "Python [conda root]",
   "language": "python",
   "name": "conda-root-py"
  },
  "language_info": {
   "codemirror_mode": {
    "name": "ipython",
    "version": 2
   },
   "file_extension": ".py",
   "mimetype": "text/x-python",
   "name": "python",
   "nbconvert_exporter": "python",
   "pygments_lexer": "ipython2",
   "version": "2.7.12"
  }
 },
 "nbformat": 4,
 "nbformat_minor": 1
}
